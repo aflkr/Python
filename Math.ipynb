{
 "cells": [
  {
   "cell_type": "code",
   "execution_count": 1,
   "metadata": {},
   "outputs": [
    {
     "data": {
      "text/plain": [
       "6.0"
      ]
     },
     "execution_count": 1,
     "metadata": {},
     "output_type": "execute_result"
    }
   ],
   "source": [
    "import math #套用數學\n",
    "s=(3+4+5)/2\n",
    "math.sqrt(s*(s-3)*(s-4)*(s-5))"
   ]
  },
  {
   "cell_type": "code",
   "execution_count": 2,
   "metadata": {},
   "outputs": [
    {
     "data": {
      "text/plain": [
       "126.8857754044952"
      ]
     },
     "execution_count": 2,
     "metadata": {},
     "output_type": "execute_result"
    }
   ],
   "source": [
    "# 12 33 25 的三角形面積\n",
    "import math \n",
    "s=(12+33+25)/2\n",
    "math.sqrt(s*(s-12)*(s-33)*(s-25))"
   ]
  },
  {
   "cell_type": "code",
   "execution_count": 3,
   "metadata": {},
   "outputs": [
    {
     "name": "stdout",
     "output_type": "stream",
     "text": [
      "<class 'int'>\n",
      "<class 'str'>\n"
     ]
    }
   ],
   "source": [
    "x=123\n",
    "y=\"123\"\n",
    "print(type(x)) #type 顯示型態\n",
    "print(type(y))"
   ]
  },
  {
   "cell_type": "code",
   "execution_count": null,
   "metadata": {},
   "outputs": [],
   "source": [
    "print(0o137)#八進位\n",
    "print(0b111)#二進位\n",
    "print(0xff)#十六進位"
   ]
  },
  {
   "cell_type": "code",
   "execution_count": 4,
   "metadata": {},
   "outputs": [
    {
     "name": "stdout",
     "output_type": "stream",
     "text": [
      "<class 'int'>\n",
      "<class 'float'>\n",
      "0.000899\n",
      "21.904761904761905\n"
     ]
    }
   ],
   "source": [
    "print(type(12))\n",
    "print(type(12.0))\n",
    "print(8.99e-4)\n",
    "print(23/1.05)"
   ]
  },
  {
   "cell_type": "code",
   "execution_count": 5,
   "metadata": {},
   "outputs": [
    {
     "name": "stdout",
     "output_type": "stream",
     "text": [
      "<class 'bool'>\n",
      "False\n",
      "True\n"
     ]
    }
   ],
   "source": [
    "#Bool\n",
    "print(type(True))\n",
    "x,y=10,20\n",
    "print(x>y)\n",
    "print(x+10<=y)"
   ]
  },
  {
   "cell_type": "code",
   "execution_count": 6,
   "metadata": {},
   "outputs": [
    {
     "name": "stdout",
     "output_type": "stream",
     "text": [
      "(4.23+8.5j)\n",
      "4.23\n",
      "8.5\n",
      "(4.23-8.5j)\n"
     ]
    }
   ],
   "source": [
    "#複數complex\n",
    "aComplex=4.23+8.5j\n",
    "print(aComplex)\n",
    "print(aComplex.real) #num.real 回傳複數的實數部分\n",
    "print(aComplex.imag) #num.imag 回傳複數的虛數部分\n",
    "print(aComplex.conjugate()) #num.conjugate 回傳複數的共軛複數"
   ]
  },
  {
   "cell_type": "code",
   "execution_count": 7,
   "metadata": {},
   "outputs": [
    {
     "name": "stdout",
     "output_type": "stream",
     "text": [
      "381.7035074111598\n"
     ]
    }
   ],
   "source": [
    "import math\n",
    "print(4*(math.pi*4.5*4.5*4.5)/3)"
   ]
  },
  {
   "cell_type": "code",
   "execution_count": null,
   "metadata": {},
   "outputs": [],
   "source": []
  }
 ],
 "metadata": {
  "kernelspec": {
   "display_name": "Python 3",
   "language": "python",
   "name": "python3"
  },
  "language_info": {
   "codemirror_mode": {
    "name": "ipython",
    "version": 3
   },
   "file_extension": ".py",
   "mimetype": "text/x-python",
   "name": "python",
   "nbconvert_exporter": "python",
   "pygments_lexer": "ipython3",
   "version": "3.6.4"
  }
 },
 "nbformat": 4,
 "nbformat_minor": 2
}
